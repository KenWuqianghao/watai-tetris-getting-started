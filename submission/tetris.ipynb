{
 "cells": [
  {
   "cell_type": "code",
   "execution_count": 1,
   "metadata": {},
   "outputs": [
    {
     "name": "stdout",
     "output_type": "stream",
     "text": [
      "\u001b[0m\u001b[32m\u001b[1m\n",
      "Use the link below to log into the CLI using your DOXA account:\u001b[0m\n",
      "\u001b[0m\thttps://doxaai.com/oauth/device/F8Krk9yT0z14\u001b[0m\n",
      "\u001b[0m\u001b[32m\u001b[1m\n",
      "The verification link has been opened in your default browser.\n",
      "\u001b[0m\n",
      "\u001b[0m\u001b[K\u001b[0m\u001b[?25h\u001b[0m\u001b[32m✔\u001b[39m Authorisation successful - you have now been logged in!\n",
      "\u001b[0m\u001b[K\u001b[0m\u001b[?25h\u001b[0m\u001b[0m"
     ]
    }
   ],
   "source": [
    "!doxa login"
   ]
  },
  {
   "cell_type": "code",
   "execution_count": 2,
   "metadata": {},
   "outputs": [
    {
     "name": "stdout",
     "output_type": "stream",
     "text": [
      "\n",
      "\u001b[1;32mHello, @kenwu! Here are your account details:\u001b[0m\n",
      "\n",
      "\u001b[0m\u001b[1;37m            User Information for @kenwu            \u001b[0m\n",
      "┏━━━━━━━━━━┳━━━━━━━━━━━━━━━━━━━━━━━━━━━━━━━━━━━━━━┓\n",
      "┃\u001b[1m \u001b[0m\u001b[1mField   \u001b[0m\u001b[1m \u001b[0m┃\u001b[1m \u001b[0m\u001b[1mValue                               \u001b[0m\u001b[1m \u001b[0m┃\n",
      "┡━━━━━━━━━━╇━━━━━━━━━━━━━━━━━━━━━━━━━━━━━━━━━━━━━━┩\n",
      "│\u001b[1;36m \u001b[0m\u001b[1;36mUsername\u001b[0m\u001b[1;36m \u001b[0m│ kenwu                                │\n",
      "│          │                                      │\n",
      "│\u001b[1;36m \u001b[0m\u001b[1;36mEmail   \u001b[0m\u001b[1;36m \u001b[0m│ wooqianghao@gmail.com                │\n",
      "│          │                                      │\n",
      "│\u001b[1;36m \u001b[0m\u001b[1;36mTag     \u001b[0m\u001b[1;36m \u001b[0m│ d44af244-8776-46d2-ad3c-2aa4946691be │\n",
      "└──────────┴──────────────────────────────────────┘\n",
      "\u001b[0m\u001b[0m"
     ]
    }
   ],
   "source": [
    "!doxa user"
   ]
  },
  {
   "cell_type": "code",
   "execution_count": 3,
   "metadata": {},
   "outputs": [
    {
     "name": "stdout",
     "output_type": "stream",
     "text": [
      "\u001b[1m\u001b[36m__pycache__\u001b[m\u001b[m        doxa.yaml          find_weights.ipynb \u001b[1m\u001b[36mtetris\u001b[m\u001b[m\n",
      "agent.py           find_weight.py     sample_agent.py    tetris.ipynb\n"
     ]
    }
   ],
   "source": [
    "!ls"
   ]
  },
  {
   "cell_type": "code",
   "execution_count": 4,
   "metadata": {},
   "outputs": [
    {
     "name": "stdout",
     "output_type": "stream",
     "text": [
      "\n",
      "\u001b[2K  \u001b[1;37mCompressing your submission\u001b[0m \u001b[1;32m━━━━━━━━━━━━━━━━━━━━━━━━━━━━━━\u001b[0m \u001b[1;37m100%\u001b[0m      \u001b[37m8/8\u001b[0m files\u001b[0mles\u001b[0m\n",
      "\u001b[?25h\u001b[0m\n",
      "\u001b[2K  \u001b[1;37mUploading your submission  \u001b[0m \u001b[1;32m━━━━━━━━━━━━\u001b[0m \u001b[1;37m100%\u001b[0m      \u001b[37m41.9/41.7  \u001b[0m      \u001b[1;36m137.2 MB/s\u001b[0m6m?\u001b[0m\u001b[0m\n",
      "\u001b[2K\u001b[1A\u001b[2K  \u001b[1;37mUploading your submission  \u001b[0m \u001b[1;32m━━━━━━━━━━━━\u001b[0m \u001b[1;37m100%\u001b[0m      \u001b[37m41.9/41.7  \u001b[0m      \u001b[1;36m137.2 MB/s\u001b[0m\n",
      "\u001b[2K\u001b[1A\u001b[2K  \u001b[1;37mUploading your submission  \u001b[0m \u001b[1;32m━━━━━━━━━━━━\u001b[0m \u001b[1;37m100%\u001b[0m      \u001b[37m41.9/41.7  \u001b[0m      \u001b[1;36m137.2 MB/s\u001b[0m\n",
      "\u001b[2K\u001b[1A\u001b[2K  \u001b[1;37mUploading your submission  \u001b[0m \u001b[1;32m━━━━━━━━━━━━\u001b[0m \u001b[1;37m100%\u001b[0m      \u001b[37m41.7/41.7  \u001b[0m      \u001b[1;36m137.2 MB/s\u001b[0m\n",
      "                                                     \u001b[37mkB         \u001b[0m                \n",
      "\u001b[?25h\u001b[0m\n",
      "  \u001b[1;36mYour submission has been successfully uploaded to the DOXA AI platform!\u001b[0m\n",
      "\u001b[0m\u001b[0m"
     ]
    }
   ],
   "source": [
    "!doxa upload ../submission"
   ]
  }
 ],
 "metadata": {
  "kernelspec": {
   "display_name": "tetris",
   "language": "python",
   "name": "python3"
  },
  "language_info": {
   "codemirror_mode": {
    "name": "ipython",
    "version": 3
   },
   "file_extension": ".py",
   "mimetype": "text/x-python",
   "name": "python",
   "nbconvert_exporter": "python",
   "pygments_lexer": "ipython3",
   "version": "3.12.3"
  }
 },
 "nbformat": 4,
 "nbformat_minor": 2
}
