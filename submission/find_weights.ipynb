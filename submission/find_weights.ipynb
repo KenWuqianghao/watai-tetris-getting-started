{
 "cells": [
  {
   "cell_type": "code",
   "execution_count": 57,
   "metadata": {
    "collapsed": true
   },
   "outputs": [
    {
     "name": "stdout",
     "output_type": "stream",
     "text": [
      "The autoreload extension is already loaded. To reload it, use:\n",
      "  %reload_ext autoreload\n"
     ]
    }
   ],
   "source": [
    "import sys\n",
    "\n",
    "# EDIT THIS\n",
    "sys.path.append('/Users/kenwu/Documents/Github/watai-tetris-getting-started/')\n",
    "\n",
    "from submission.sample_agent import SelectedAgent\n",
    "from submission.tetris.game import Game\n",
    "\n",
    "from tqdm import tqdm\n",
    "import numpy as np\n",
    "\n",
    "# Import HyperOpt Library\n",
    "from hyperopt import tpe, hp, fmin\n",
    "import numpy as np\n",
    "\n",
    "import random\n",
    "import asyncio\n",
    "import nest_asyncio\n",
    "nest_asyncio.apply()\n",
    "\n",
    "%load_ext autoreload\n",
    "%autoreload 2"
   ]
  },
  {
   "cell_type": "code",
   "execution_count": 58,
   "metadata": {},
   "outputs": [],
   "source": [
    "weights = [5.730354708248956, 17.06538196197617, 43.64981452159081, 20.677779467462987, -2.670664578038187, 12.140232919452366, 0.8730114754380225, -6.201370068803084, 0.1621296201722936]"
   ]
  },
  {
   "cell_type": "code",
   "execution_count": 59,
   "metadata": {},
   "outputs": [],
   "source": [
    "weights = [0.3314886226124948, 0.18991574173842685, -0.07478519830790947, -0.6226925803537278, -0.27493862637697886, 0.577224884007095, 1.551279829444542, 0.000844176718391876, 0.012858536971335575]"
   ]
  },
  {
   "cell_type": "code",
   "execution_count": 60,
   "metadata": {},
   "outputs": [],
   "source": [
    "seeds = [741, 256, 674, 216, 288, 127, 797, 719, 489, 740, 768, 158, 458, 621, 755, 924, 734, 802,  64,  89]"
   ]
  },
  {
   "cell_type": "code",
   "execution_count": 69,
   "metadata": {},
   "outputs": [
    {
     "data": {
      "text/plain": [
       "1950"
      ]
     },
     "execution_count": 69,
     "metadata": {},
     "output_type": "execute_result"
    }
   ],
   "source": [
    "game = Game(SelectedAgent(weights), seed=256)\n",
    "async for item in game.run():\n",
    "    pass\n",
    "game.score"
   ]
  },
  {
   "cell_type": "code",
   "execution_count": 61,
   "metadata": {},
   "outputs": [],
   "source": [
    "scores = []\n",
    "for i in seeds:\n",
    "    GAME_SEED = i\n",
    "    game = Game(SelectedAgent(weights), seed=GAME_SEED)\n",
    "    async for item in game.run():\n",
    "        pass\n",
    "    scores.append(game.score)"
   ]
  },
  {
   "cell_type": "code",
   "execution_count": 62,
   "metadata": {},
   "outputs": [
    {
     "data": {
      "text/plain": [
       "8257.5"
      ]
     },
     "execution_count": 62,
     "metadata": {},
     "output_type": "execute_result"
    }
   ],
   "source": [
    "np.mean(scores)"
   ]
  },
  {
   "cell_type": "code",
   "execution_count": 63,
   "metadata": {},
   "outputs": [
    {
     "data": {
      "text/plain": [
       "[20450,\n",
       " 1950,\n",
       " 2500,\n",
       " 9950,\n",
       " 2750,\n",
       " 44500,\n",
       " 4300,\n",
       " 650,\n",
       " 7850,\n",
       " 8300,\n",
       " 0,\n",
       " 14000,\n",
       " 950,\n",
       " 5600,\n",
       " 3100,\n",
       " 10450,\n",
       " 6400,\n",
       " 600,\n",
       " 2350,\n",
       " 18500]"
      ]
     },
     "execution_count": 63,
     "metadata": {},
     "output_type": "execute_result"
    }
   ],
   "source": [
    "scores"
   ]
  },
  {
   "cell_type": "code",
   "execution_count": 64,
   "metadata": {},
   "outputs": [
    {
     "data": {
      "text/plain": [
       "array([13, 16,  8,  9,  3, 15, 11, 19,  0,  5])"
      ]
     },
     "execution_count": 64,
     "metadata": {},
     "output_type": "execute_result"
    }
   ],
   "source": [
    "#find thee index of the best 10 scores\n",
    "best_10 = np.argsort(scores)[-10:]\n",
    "best_10"
   ]
  },
  {
   "cell_type": "code",
   "execution_count": 65,
   "metadata": {},
   "outputs": [
    {
     "data": {
      "text/plain": [
       "[10, 17, 7, 12, 1, 18, 2, 4, 14, 6]"
      ]
     },
     "execution_count": 65,
     "metadata": {},
     "output_type": "execute_result"
    }
   ],
   "source": [
    "#find the index of the worst 10 scores\n",
    "worst_10 = sorted(range(len(scores)), key=lambda i: scores[i])[:10]\n",
    "worst_10"
   ]
  },
  {
   "cell_type": "code",
   "execution_count": 66,
   "metadata": {},
   "outputs": [
    {
     "data": {
      "text/plain": [
       "array([13, 16,  8,  9,  3, 15, 11, 19,  0,  5, 10, 17,  7, 12,  1, 18,  2,\n",
       "        4, 14,  6])"
      ]
     },
     "execution_count": 66,
     "metadata": {},
     "output_type": "execute_result"
    }
   ],
   "source": [
    "eval_seeds = np.concatenate([best_10, worst_10]) # Joining arr1 and arr2\n",
    "eval_seeds"
   ]
  }
 ],
 "metadata": {
  "kernelspec": {
   "display_name": "Python 3",
   "language": "python",
   "name": "python3"
  },
  "language_info": {
   "codemirror_mode": {
    "name": "ipython",
    "version": 3
   },
   "file_extension": ".py",
   "mimetype": "text/x-python",
   "name": "python",
   "nbconvert_exporter": "python",
   "pygments_lexer": "ipython3",
   "version": "3.12.3"
  }
 },
 "nbformat": 4,
 "nbformat_minor": 0
}
